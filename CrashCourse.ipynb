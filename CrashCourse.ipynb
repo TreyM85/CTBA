{
 "cells": [
  {
   "cell_type": "code",
   "execution_count": 1,
   "id": "52c9a123",
   "metadata": {},
   "outputs": [
    {
     "name": "stdout",
     "output_type": "stream",
     "text": [
      "7\n",
      "data\n",
      "10\n",
      "15\n"
     ]
    }
   ],
   "source": [
    "x = 7\n",
    "y = \"data\"\n",
    "\n",
    "print(x)\n",
    "print(y)\n",
    "\n",
    "my_variable=10\n",
    "print(my_variable)\n",
    "\n",
    "my_variable += 5 #adds 5 to existing\n",
    "print(my_variable)"
   ]
  },
  {
   "cell_type": "markdown",
   "id": "0d46f987",
   "metadata": {},
   "source": [
    "Working with Strings."
   ]
  },
  {
   "cell_type": "code",
   "execution_count": 2,
   "id": "9d1b4eb8",
   "metadata": {},
   "outputs": [
    {
     "name": "stdout",
     "output_type": "stream",
     "text": [
      "What are you studying?\n",
      "Analytics\n",
      "What are you studying? Analytics\n",
      "What are you studying? Analytics\n"
     ]
    }
   ],
   "source": [
    "\"Im into Data Science\"\n",
    "\n",
    "question = \"What are you studying?\"\n",
    "answer = \"Analytics\"\n",
    "\n",
    "print(question)\n",
    "print(answer)\n",
    "\n",
    "print(question + \" \" + answer)\n",
    "### This is another way to print strings together\n",
    "print(f\"{question} {answer}\")\n"
   ]
  },
  {
   "cell_type": "code",
   "execution_count": 3,
   "id": "fd3c8aaf",
   "metadata": {},
   "outputs": [
    {
     "name": "stdout",
     "output_type": "stream",
     "text": [
      "What are you studying?\n",
      "Analytics\n",
      "What are you studying?\n",
      "Analytics\n"
     ]
    },
    {
     "data": {
      "text/plain": [
       "str"
      ]
     },
     "execution_count": 3,
     "metadata": {},
     "output_type": "execute_result"
    }
   ],
   "source": [
    "### New line character\n",
    "print(question + \"\\n\" + answer)\n",
    "print(f\"{question}\\n{answer}\")\n",
    "\n",
    "type(answer) # tells class"
   ]
  },
  {
   "cell_type": "code",
   "execution_count": 4,
   "id": "b9008b5a",
   "metadata": {},
   "outputs": [
    {
     "data": {
      "text/plain": [
       "9"
      ]
     },
     "execution_count": 4,
     "metadata": {},
     "output_type": "execute_result"
    }
   ],
   "source": [
    "len(answer) # tells length of string"
   ]
  },
  {
   "cell_type": "code",
   "execution_count": 5,
   "id": "ac356107",
   "metadata": {},
   "outputs": [
    {
     "name": "stdout",
     "output_type": "stream",
     "text": [
      "Analytics\n"
     ]
    },
    {
     "data": {
      "text/plain": [
       "'s'"
      ]
     },
     "execution_count": 5,
     "metadata": {},
     "output_type": "execute_result"
    }
   ],
   "source": [
    "print(answer)\n",
    "answer[0] ## First character\n",
    "answer[2] ## third character\n",
    "answer[-1] ## last character"
   ]
  },
  {
   "cell_type": "code",
   "execution_count": 6,
   "id": "f593ba71",
   "metadata": {},
   "outputs": [
    {
     "name": "stdout",
     "output_type": "stream",
     "text": [
      "CT\n"
     ]
    }
   ],
   "source": [
    "course = \"CTBA\"\n",
    "\n",
    "len(course) ## length of string\n",
    "print(course[0:2])"
   ]
  },
  {
   "cell_type": "code",
   "execution_count": 7,
   "id": "bff5ea6e",
   "metadata": {},
   "outputs": [
    {
     "name": "stdout",
     "output_type": "stream",
     "text": [
      "ANALYTICS\n"
     ]
    }
   ],
   "source": [
    "answer_cap = answer.upper()\n",
    "print(answer_cap)"
   ]
  },
  {
   "cell_type": "code",
   "execution_count": 8,
   "id": "7e317fd6",
   "metadata": {},
   "outputs": [
    {
     "name": "stdout",
     "output_type": "stream",
     "text": [
      "analytics\n"
     ]
    }
   ],
   "source": [
    "answer_low = answer.lower()\n",
    "print(answer_low)"
   ]
  },
  {
   "cell_type": "code",
   "execution_count": 9,
   "id": "fb5fbf85",
   "metadata": {},
   "outputs": [
    {
     "data": {
      "text/plain": [
       "5"
      ]
     },
     "execution_count": 9,
     "metadata": {},
     "output_type": "execute_result"
    }
   ],
   "source": [
    "answer.find(\"t\") #Finds the index of the first occurance of the letter \"t\""
   ]
  },
  {
   "cell_type": "code",
   "execution_count": 10,
   "id": "82464f06",
   "metadata": {},
   "outputs": [
    {
     "name": "stdout",
     "output_type": "stream",
     "text": [
      "Hello, my name is Trey McDonald. Nice to meet you!\n",
      "Hello, my name is Trey McDonald. Nice to meet you!\n"
     ]
    }
   ],
   "source": [
    "name = \"Trey McDonald\"\n",
    "print(\"Hello, my name is \" + name + \". Nice to meet you!\")\n",
    "\n",
    "print(f\"Hello, my name is {name}. Nice to meet you!\")"
   ]
  },
  {
   "cell_type": "code",
   "execution_count": 11,
   "id": "1948140a",
   "metadata": {},
   "outputs": [
    {
     "name": "stdout",
     "output_type": "stream",
     "text": [
      "(1, 2, 3, 4, 5)\n"
     ]
    }
   ],
   "source": [
    "t1 = (1, 2, 3, 4, 5) # This is a tuple\n",
    "print(t1)\n",
    "\n",
    "# t[0]= 11  This will give an error because tuples are immutable"
   ]
  },
  {
   "cell_type": "code",
   "execution_count": null,
   "id": "58deb923",
   "metadata": {},
   "outputs": [
    {
     "name": "stdout",
     "output_type": "stream",
     "text": [
      "Trey McDonald\n",
      "{'name': 'Trey McDonald', 'age': 24, 'city': 'Williamsburg', 'email': 'mcdonaldf@wm.edu'}\n"
     ]
    }
   ],
   "source": [
    "## Dictionary Example\n",
    "\n",
    "d1 = {\"name\": \"Trey McDonald\", \"age\": 23, \"city\": \"Williamsburg\"}\n",
    "print(d1[\"name\"]) # Outputs Trey McDonald\n",
    "d1[\"age\"] = 24 # Updates age to 24\n",
    "\n",
    "d1[\"email\"] = \"mcdonaldf@wm.edu\" # adds new key value pair to dictionary\n",
    "print(d1)"
   ]
  },
  {
   "cell_type": "code",
   "execution_count": 17,
   "id": "a7d9bedd",
   "metadata": {},
   "outputs": [
    {
     "name": "stdout",
     "output_type": "stream",
     "text": [
      "name : Trey McDonald\n",
      "age : 24\n",
      "city : Williamsburg\n",
      "email : mcdonaldf@wm.edu\n"
     ]
    }
   ],
   "source": [
    "### print a better format usint .items method\n",
    "for key, value in d1.items():\n",
    "    print(key, \":\" , value)"
   ]
  },
  {
   "cell_type": "code",
   "execution_count": 4,
   "id": "5c1880f7",
   "metadata": {},
   "outputs": [
    {
     "name": "stdout",
     "output_type": "stream",
     "text": [
      "{'person1': {'name': 'Trey McDonald', 'age': 23, 'city': 'Williamsburg'}, 'person2': {'name': 'John Smith', 'age': 27, 'City': 'Kinnelon'}}\n",
      "23\n",
      "Kinnelon\n"
     ]
    }
   ],
   "source": [
    "people = {\n",
    "    \"person1\": {\"name\": \"Trey McDonald\", \"age\": 23, \"city\": \"Williamsburg\"},\n",
    "    \"person2\": {\"name\": \"John Smith\", \"age\": 27, \"City\": \"Kinnelon\"}\n",
    "}\n",
    "\n",
    "print(people)\n",
    "print(people[\"person1\"][\"age\"]) # Outputs Trey McDonald\n",
    "print(people[\"person2\"][\"City\"]) # Outputs Kinnelon"
   ]
  },
  {
   "cell_type": "code",
   "execution_count": 23,
   "id": "14f60b6e",
   "metadata": {},
   "outputs": [
    {
     "name": "stdout",
     "output_type": "stream",
     "text": [
      "{'A': {'B': 10, 'C': 15}, 'B': {'A': 10, 'C': 20}, 'C': {'A': 15, 'B': 20}}\n"
     ]
    }
   ],
   "source": [
    "distances = {\n",
    "    \"A\": {\"B\": 10, \"C\": 15},\n",
    "    \"B\": {\"A\": 10, \"C\": 20},\n",
    "    \"C\": {\"A\": 15, \"B\": 20}\n",
    "}\n",
    "print(distances)"
   ]
  },
  {
   "cell_type": "code",
   "execution_count": 29,
   "id": "0a83161e",
   "metadata": {},
   "outputs": [
    {
     "name": "stdout",
     "output_type": "stream",
     "text": [
      "{'Alice': {'name': 'Alice', 'major': 'KINES', 'GPA': 3.6, '# of courses': 4}, 'Bob': {'name': 'Bob', 'major': 'Finance', 'GPA': 3.8, '# of courses': 6}, 'Charlie': {'name': 'Charlie', 'major': 'PSYCH', 'GPA': 3.2, '# of courses': 5}, 'Trey': {'name': 'Trey', 'major': 'KINES', 'GPA': 3.4, '# of courses': 4}}\n"
     ]
    }
   ],
   "source": [
    "student_gpa = {\n",
    "    \"Alice\": {\"name\": \"Alice\", \"major\": \"KINES\", \"GPA\": 3.6, \"# of courses\": 4},\n",
    "    \"Bob\": {\"name\": \"Bob\", \"major\": \"Finance\", \"GPA\": 3.8, \"# of courses\": 6},\n",
    "    \"Charlie\": {\"name\": \"Charlie\", \"major\": \"PSYCH\", \"GPA\": 3.2, \"# of courses\": 5},\n",
    "    \"Trey\": {\"name\": \"Trey\", \"major\": \"KINES\", \"GPA\": 3.4, \"# of courses\": 4},\n",
    "}\n",
    "\n",
    "print(student_gpa)"
   ]
  },
  {
   "cell_type": "code",
   "execution_count": 31,
   "id": "8179695a",
   "metadata": {},
   "outputs": [
    {
     "name": "stdout",
     "output_type": "stream",
     "text": [
      "x is greater than 5\n"
     ]
    }
   ],
   "source": [
    "### if statements in python\n",
    "\n",
    "x= 10\n",
    "if x > 5:\n",
    "    print(\"x is greater than 5\")"
   ]
  },
  {
   "cell_type": "code",
   "execution_count": 36,
   "id": "28c33a0f",
   "metadata": {},
   "outputs": [
    {
     "name": "stdout",
     "output_type": "stream",
     "text": [
      "x is even\n"
     ]
    }
   ],
   "source": [
    "### If else statement\n",
    "x= 4\n",
    "if x % 2 == 0:\n",
    "    print(\"x is even\")\n",
    "else:\n",
    "    print(\"x is odd\")"
   ]
  },
  {
   "cell_type": "code",
   "execution_count": 37,
   "id": "2ec8bcb4",
   "metadata": {},
   "outputs": [
    {
     "name": "stdout",
     "output_type": "stream",
     "text": [
      "0\n"
     ]
    }
   ],
   "source": [
    "### if, elif, else\n",
    "\n",
    "x= 0 \n",
    "if x > 0:\n",
    "    print(\"Positive\")\n",
    "elif x == 0:\n",
    "    print(\"0\")\n",
    "else:\n",
    "    print(\"Negative\")"
   ]
  },
  {
   "cell_type": "code",
   "execution_count": 39,
   "id": "44445222",
   "metadata": {},
   "outputs": [
    {
     "name": "stdout",
     "output_type": "stream",
     "text": [
      "i is:  0\n",
      "i is:  1\n",
      "i is:  2\n",
      "i is:  3\n",
      "i is:  4\n"
     ]
    }
   ],
   "source": [
    "### For loops\n",
    "for i in range(5):\n",
    "    print(\"i is: \", i)"
   ]
  },
  {
   "cell_type": "code",
   "execution_count": 45,
   "id": "0b1db851",
   "metadata": {},
   "outputs": [
    {
     "name": "stdout",
     "output_type": "stream",
     "text": [
      "0 is even\n",
      "1 is odd\n",
      "2 is even\n",
      "3 is odd\n",
      "4 is even\n",
      "5 is odd\n"
     ]
    }
   ],
   "source": [
    "### While loops\n",
    "x= 0\n",
    "while x < 6:\n",
    "    if x % 2 == 0:\n",
    "        print(x, \"is even\")\n",
    "    else:\n",
    "        print(x, \"is odd\")\n",
    "    x += 1"
   ]
  },
  {
   "cell_type": "code",
   "execution_count": 1,
   "id": "ed308a0a",
   "metadata": {},
   "outputs": [],
   "source": [
    "import numpy as np"
   ]
  }
 ],
 "metadata": {
  "kernelspec": {
   "display_name": "CTBA",
   "language": "python",
   "name": "python3"
  },
  "language_info": {
   "codemirror_mode": {
    "name": "ipython",
    "version": 3
   },
   "file_extension": ".py",
   "mimetype": "text/x-python",
   "name": "python",
   "nbconvert_exporter": "python",
   "pygments_lexer": "ipython3",
   "version": "3.13.5"
  }
 },
 "nbformat": 4,
 "nbformat_minor": 5
}
